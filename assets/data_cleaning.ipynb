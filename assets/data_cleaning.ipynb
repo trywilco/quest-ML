{
 "cells": [
  {
   "cell_type": "markdown",
   "id": "0bb44f89",
   "metadata": {},
   "source": [
    "# 🏠 Data Cleaning with Pandas - Housing Dataset\n",
    "\n",
    "Welcome to your hands-on data cleaning exercise! In this notebook, you'll work with a real housing dataset that has missing values and categorical variables that need cleaning.\n",
    "\n",
    "## 🎯 Your Mission\n",
    "1. **Handle Missing Values**: Fix the missing data in the `total_bedrooms` column\n",
    "2. **Encode Categories**: Transform the `ocean_proximity` categorical column for machine learning\n",
    "\n",
    "## 📊 Dataset Info\n",
    "- **Rows**: 78 housing districts from California\n",
    "- **Missing Values**: ~20 missing values in `total_bedrooms` column\n",
    "- **Categorical Data**: `ocean_proximity` with 5 categories\n",
    "- **Target**: `median_house_value`\n",
    "\n",
    "Let's get started! 🚀"
   ]
  },
  {
   "cell_type": "code",
   "execution_count": null,
   "id": "fea00eea",
   "metadata": {},
   "outputs": [],
   "source": [
    "# Install required packages\n",
    "%pip install pandas numpy matplotlib seaborn scikit-learn requests\n",
    "\n",
    "print(\"✅ All packages installed successfully!\")"
   ]
  },
  {
   "cell_type": "code",
   "execution_count": null,
   "id": "4e857fd7",
   "metadata": {},
   "outputs": [],
   "source": [
    "# Import necessary libraries\n",
    "import pandas as pd\n",
    "import numpy as np\n",
    "import matplotlib.pyplot as plt\n",
    "import warnings\n",
    "warnings.filterwarnings('ignore')\n",
    "\n",
    "# Set random seed for reproducibility\n",
    "np.random.seed(42)\n",
    "\n",
    "print(\"✅ All libraries imported successfully!\")"
   ]
  },
  {
   "cell_type": "markdown",
   "id": "7f837d39",
   "metadata": {},
   "source": [
    "## 📊 Step 1: Load and Explore the Data\n",
    "\n",
    "Let's load the housing dataset and see what we're working with."
   ]
  },
  {
   "cell_type": "code",
   "execution_count": null,
   "id": "3630a87e",
   "metadata": {},
   "outputs": [],
   "source": [
    "# Load the housing dataset\n",
    "housing_data = pd.read_csv('housing_data.csv')\n",
    "\n",
    "# Create DataFrame\n",
    "df = pd.DataFrame(housing_data)\n",
    "\n",
    "print(f\"✅ Dataset loaded successfully!\")\n",
    "print(f\"📊 Shape: {df.shape}\")\n",
    "print(f\"📋 Columns: {list(df.columns)}\")"
   ]
  },
  {
   "cell_type": "code",
   "execution_count": null,
   "id": "0c196a14",
   "metadata": {},
   "outputs": [],
   "source": [
    "# Display basic information about the dataset\n",
    "print(\"=== DATASET OVERVIEW ===\")\n",
    "print(f\"Dataset shape: {df.shape}\")\n",
    "print(f\"\\nColumn information:\")\n",
    "print(df.info())"
   ]
  },
  {
   "cell_type": "code",
   "execution_count": null,
   "id": "025371fe",
   "metadata": {},
   "outputs": [],
   "source": [
    "# Check for missing values\n",
    "print(\"=== MISSING VALUES ANALYSIS ===\")\n",
    "missing_values = df.isnull().sum()\n",
    "print(\"Missing values per column:\")\n",
    "print(missing_values)\n",
    "\n",
    "# Show only columns with missing values\n",
    "missing_cols = missing_values[missing_values > 0]\n",
    "if not missing_cols.empty:\n",
    "    print(f\"\\n🚨 Columns with missing values:\")\n",
    "    for col, count in missing_cols.items():\n",
    "        print(f\"  - {col}: {count} missing values ({count/len(df)*100:.1f}%)\")"
   ]
  },
  {
   "cell_type": "code",
   "execution_count": null,
   "id": "d117a378",
   "metadata": {},
   "outputs": [],
   "source": [
    "# Examine the categorical column\n",
    "print(\"=== CATEGORICAL DATA ANALYSIS ===\")\n",
    "print(\"Ocean proximity categories:\")\n",
    "print(df['ocean_proximity'].value_counts())\n",
    "\n",
    "print(f\"\\nUnique categories: {df['ocean_proximity'].unique()}\")"
   ]
  },
  {
   "cell_type": "code",
   "execution_count": null,
   "id": "675419de",
   "metadata": {},
   "outputs": [],
   "source": [
    "# Display first few rows to see the data\n",
    "print(\"=== SAMPLE DATA ===\")\n",
    "print(df.head(10))"
   ]
  },
  {
   "cell_type": "markdown",
   "id": "7402a1c3",
   "metadata": {},
   "source": [
    "## 🔧 Step 2: Fix Missing Values\n",
    "\n",
    "Now let's fix the missing values in the `total_bedrooms` column using the median value."
   ]
  },
  {
   "cell_type": "code",
   "execution_count": null,
   "id": "ad693fa4",
   "metadata": {},
   "outputs": [],
   "source": [
    "# Fix missing values in total_bedrooms\n",
    "print(\"=== FIXING MISSING VALUES ===\")\n",
    "\n",
    "# Show missing values before\n",
    "print(f\"Missing values in total_bedrooms: {df['total_bedrooms'].isnull().sum()}\")\n",
    "\n",
    "df_cleaned = df.copy()\n",
    "# TODO: Fill missing values with median\n",
    "\n",
    "# Check results\n",
    "print(f\"Missing values after cleaning: {df_cleaned['total_bedrooms'].isnull().sum()}\")"
   ]
  },
  {
   "cell_type": "markdown",
   "id": "333a74f0",
   "metadata": {},
   "source": [
    "## 🔄 Step 3: Encode Categorical Data\n",
    "\n",
    "Now let's convert the `ocean_proximity` column into numbers that machine learning algorithms can understand."
   ]
  },
  {
   "cell_type": "code",
   "execution_count": null,
   "id": "bf17804e",
   "metadata": {},
   "outputs": [],
   "source": [
    "# Encode categorical data\n",
    "print(\"=== ENCODING CATEGORICAL DATA ===\")\n",
    "\n",
    "# Show current categories\n",
    "print(\"Current ocean_proximity categories:\")\n",
    "print(df['ocean_proximity'].value_counts())\n",
    "\n",
    "# TODO: Convert categories to numbers using one-hot encoding\n",
    "# df_final = \n",
    "\n",
    "# Check results\n",
    "print(f\"\\nOriginal columns: {df.shape[1]}\")\n",
    "print(f\"Final columns: {df_final.shape[1]}\")\n",
    "print(\"✅ Categories encoded!\")"
   ]
  },
  {
   "cell_type": "markdown",
   "id": "fcc0447e",
   "metadata": {},
   "source": [
    "## ✅ Step 4: Verify Results\n",
    "\n",
    "Let's check our work and make sure everything looks good!"
   ]
  },
  {
   "cell_type": "code",
   "execution_count": null,
   "id": "735a4f99",
   "metadata": {},
   "outputs": [],
   "source": [
    "def report(message):\n",
    "    \"\"\"Send quest notification with message\"\"\"\n",
    "    import requests\n",
    "    with open('.wilco', 'r') as f:\n",
    "        user_id = f.read()\n",
    "    requests.post(f\"https://engine.wilco.gg/users/{user_id}/event\", \n",
    "                  json={\"event\": \"data_cleaning_complete\", \"metadata\": {\"message\": message}})\n",
    "    print(message)\n",
    "\n",
    "# Verify our cleaned dataset\n",
    "print(\"🎉 DATA CLEANING VERIFICATION\")\n",
    "print(\"=\" * 40)\n",
    "\n",
    "# Check original vs cleaned data\n",
    "print(f\"Original dataset shape: {df.shape}\")\n",
    "print(f\"Cleaned dataset shape: {df_final.shape}\")\n",
    "print(f\"\\nMissing values before: {df.isnull().sum().sum()}\")\n",
    "print(f\"Missing values after: {df_final.isnull().sum().sum()}\")\n",
    "\n",
    "# Check if all columns are numeric\n",
    "all_numeric = all(df_final.dtypes.apply(lambda x: x.kind in 'biufc'))\n",
    "print(f\"\\nAll columns numeric: {all_numeric}\")\n",
    "\n",
    "# Check one-hot encoding results\n",
    "one_hot_cols = [col for col in df_final.columns if col.startswith('ocean_proximity_')]\n",
    "print(f\"One-hot encoded columns found: {len(one_hot_cols)}\")\n",
    "print(f\"One-hot columns: {one_hot_cols}\")\n",
    "\n",
    "# Save the cleaned dataset\n",
    "df_final.to_csv('housing_data_cleaned.csv', index=False)\n",
    "print(\"\\n💾 Cleaned dataset saved as 'housing_data_cleaned.csv'\")\n",
    "\n",
    "# Success criteria\n",
    "validation_passed = all_numeric and df_final.isnull().sum().sum() == 0 and len(one_hot_cols) > 0\n",
    "\n",
    "print(\"\\n✅ SUCCESS CRITERIA:\")\n",
    "print(f\"- No missing values: {'✅ PASSED' if df_final.isnull().sum().sum() == 0 else '❌ FAILED'}\")\n",
    "print(f\"- All data is numeric: {'✅ PASSED' if all_numeric else '❌ FAILED'}\")\n",
    "print(f\"- One-hot encoding completed: {'✅ PASSED' if len(one_hot_cols) > 0 else '❌ FAILED'}\")\n",
    "print(f\"- Dataset ready for machine learning: {'✅ PASSED' if validation_passed else '❌ FAILED'}\")\n",
    "\n",
    "if validation_passed:\n",
    "    report(\"\\n🎉 CONGRATULATIONS! Your dataset is ready for machine learning!\")\n",
    "else:\n",
    "    report(\"\\n⚠️ Please fix the issues above before proceeding.\")\n"
   ]
  }
 ],
 "metadata": {
  "kernelspec": {
   "display_name": "Python 3",
   "language": "python",
   "name": "python3"
  },
  "language_info": {
   "codemirror_mode": {
    "name": "ipython",
    "version": 3
   },
   "file_extension": ".py",
   "mimetype": "text/x-python",
   "name": "python",
   "nbconvert_exporter": "python",
   "pygments_lexer": "ipython3",
   "version": "3.12.1"
  }
 },
 "nbformat": 4,
 "nbformat_minor": 5
}
