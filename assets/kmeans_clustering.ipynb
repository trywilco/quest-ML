{
 "cells": [
  {
   "cell_type": "markdown",
   "id": "7271a4c2",
   "metadata": {},
   "source": [
    "# 🎯 K-Means Clustering - Customer Segmentation\n",
    "\n",
    "Welcome to your hands-on K-Means clustering exercise! In this notebook, you'll discover hidden patterns in customer data to segment customers into meaningful groups.\n",
    "\n",
    "## 🔍 Key Questions to Answer\n",
    "1. **What is the optimal number of clusters?** (using the elbow method)\n",
    "2. **How many customers are in each cluster?** (using K-Means clustering)\n",
    "\n",
    "## 📊 Dataset Info\n",
    "- **Rows**: 200 customers from a retail store\n",
    "- **Features**: Annual Income (k$) and Spending Score (1-100)\n",
    "- **Goal**: Segment customers for targeted marketing campaigns\n",
    "\n",
    "Let's discover customer patterns! 🔍✨"
   ]
  },
  {
   "cell_type": "code",
   "execution_count": null,
   "id": "ff91341c",
   "metadata": {},
   "outputs": [],
   "source": [
    "# Install required packages\n",
    "%pip install pandas numpy matplotlib seaborn scikit-learn\n",
    "\n",
    "print(\"✅ All packages installed successfully!\")"
   ]
  },
  {
   "cell_type": "code",
   "execution_count": null,
   "id": "62670d93",
   "metadata": {},
   "outputs": [],
   "source": [
    "# Import necessary libraries\n",
    "import pandas as pd\n",
    "import numpy as np\n",
    "import matplotlib.pyplot as plt\n",
    "import seaborn as sns\n",
    "from sklearn.cluster import KMeans\n",
    "from sklearn.preprocessing import StandardScaler\n",
    "import warnings\n",
    "warnings.filterwarnings('ignore')\n",
    "\n",
    "# Set random seed for reproducibility\n",
    "np.random.seed(42)\n",
    "\n",
    "# Set plotting style\n",
    "plt.style.use('seaborn-v0_8')\n",
    "sns.set_palette(\"husl\")\n",
    "\n",
    "print(\"✅ All libraries imported successfully!\")\n",
    "print(\"🎨 Plot styling configured!\")"
   ]
  },
  {
   "cell_type": "markdown",
   "id": "ca25184c",
   "metadata": {},
   "source": [
    "## 📊 Step 1: Load and Explore the Data\n",
    "\n",
    "Let's load the customer dataset and understand what we're working with."
   ]
  },
  {
   "cell_type": "code",
   "execution_count": null,
   "id": "c1adafb7",
   "metadata": {},
   "outputs": [],
   "source": [
    "# Load the customer dataset\n",
    "df = pd.read_csv('customer_data.csv')\n",
    "\n",
    "print(f\"✅ Dataset loaded successfully!\")\n",
    "print(f\"📊 Shape: {df.shape}\")\n",
    "print(f\"📋 Columns: {list(df.columns)}\")\n",
    "\n",
    "# Display first few rows\n",
    "print(\"\\n🔍 First 5 rows:\")\n",
    "print(df.head())"
   ]
  },
  {
   "cell_type": "code",
   "execution_count": null,
   "id": "566b601b",
   "metadata": {},
   "outputs": [],
   "source": [
    "# Dataset overview\n",
    "print(\"=== DATASET OVERVIEW ===\")\n",
    "print(df.info())\n",
    "\n",
    "print(\"\\n=== STATISTICAL SUMMARY ===\")\n",
    "print(df.describe())"
   ]
  },
  {
   "cell_type": "code",
   "execution_count": null,
   "id": "815f0509",
   "metadata": {},
   "outputs": [],
   "source": [
    "# Visualize the data distribution\n",
    "fig, axes = plt.subplots(1, 3, figsize=(15, 5))\n",
    "\n",
    "# Age distribution\n",
    "axes[0].hist(df['Age'], bins=20, alpha=0.7, color='skyblue', edgecolor='black')\n",
    "axes[0].set_title('Age Distribution')\n",
    "axes[0].set_xlabel('Age')\n",
    "axes[0].set_ylabel('Frequency')\n",
    "\n",
    "# Annual Income distribution\n",
    "axes[1].hist(df['Annual_Income'], bins=20, alpha=0.7, color='lightgreen', edgecolor='black')\n",
    "axes[1].set_title('Annual Income Distribution')\n",
    "axes[1].set_xlabel('Annual Income (k$)')\n",
    "axes[1].set_ylabel('Frequency')\n",
    "\n",
    "# Spending Score distribution\n",
    "axes[2].hist(df['Spending_Score'], bins=20, alpha=0.7, color='salmon', edgecolor='black')\n",
    "axes[2].set_title('Spending Score Distribution')\n",
    "axes[2].set_xlabel('Spending Score (1-100)')\n",
    "axes[2].set_ylabel('Frequency')\n",
    "\n",
    "plt.tight_layout()\n",
    "plt.show()\n",
    "\n",
    "print(\"📊 Data distributions visualized!\")"
   ]
  },
  {
   "cell_type": "markdown",
   "id": "bb8f32f6",
   "metadata": {},
   "source": [
    "## 🎯 Step 2: Prepare Data for Clustering\n",
    "\n",
    "For customer segmentation, we'll focus on Annual Income and Spending Score as our clustering features."
   ]
  },
  {
   "cell_type": "code",
   "execution_count": null,
   "id": "49aad97a",
   "metadata": {},
   "outputs": [],
   "source": [
    "# Select features for clustering\n",
    "features = ['Annual_Income', 'Spending_Score']\n",
    "X = df[features].values\n",
    "\n",
    "print(f\"✅ Selected features: {features}\")\n",
    "print(f\"📊 Clustering data shape: {X.shape}\")\n",
    "\n",
    "# Display the clustering data\n",
    "print(\"\\n🔍 First 5 rows of clustering data:\")\n",
    "print(X[:5])"
   ]
  },
  {
   "cell_type": "code",
   "execution_count": null,
   "id": "3a67723c",
   "metadata": {},
   "outputs": [],
   "source": [
    "# Visualize the raw data\n",
    "plt.figure(figsize=(10, 6))\n",
    "plt.scatter(X[:, 0], X[:, 1], alpha=0.6, s=50)\n",
    "plt.xlabel('Annual Income (k$)')\n",
    "plt.ylabel('Spending Score (1-100)')\n",
    "plt.title('Customer Data: Annual Income vs Spending Score')\n",
    "plt.grid(True, alpha=0.3)\n",
    "plt.show()\n",
    "\n",
    "print(\"🎨 Raw data visualized! Can you spot any potential clusters?\")"
   ]
  },
  {
   "cell_type": "markdown",
   "id": "22d8045c",
   "metadata": {},
   "source": [
    "## 🔍 Question 1: What is the optimal number of clusters?\n",
    "\n",
    "Before applying K-Means, we need to determine the optimal number of clusters using the elbow method. The elbow method helps us find the \"sweet spot\" where adding more clusters doesn't significantly improve the clustering quality.\n",
    "\n",
    "**Your task**: Use the elbow method to identify the optimal number of clusters by looking for the \"elbow\" point in the WCSS curve."
   ]
  },
  {
   "cell_type": "code",
   "execution_count": null,
   "id": "654d025d",
   "metadata": {},
   "outputs": [],
   "source": [
    "# Calculate Within-Cluster Sum of Squares (WCSS) for different k values\n",
    "wcss = []\n",
    "k_range = range(1, 11)\n",
    "\n",
    "print(\"🔍 Calculating WCSS for different k values...\")\n",
    "\n",
    "for k in k_range:\n",
    "    kmeans = KMeans(n_clusters=k, random_state=42, n_init=10)\n",
    "    kmeans.fit(X)\n",
    "    wcss.append(kmeans.inertia_)\n",
    "    print(f\"k={k}: WCSS = {kmeans.inertia_:.0f}\")\n",
    "\n",
    "print(\"\\n✅ WCSS calculation completed!\")"
   ]
  },
  {
   "cell_type": "code",
   "execution_count": null,
   "id": "804dfa8e",
   "metadata": {},
   "outputs": [],
   "source": [
    "# Plot the elbow curve\n",
    "plt.figure(figsize=(10, 6))\n",
    "plt.plot(k_range, wcss, 'bo-', linewidth=2, markersize=8)\n",
    "plt.xlabel('Number of Clusters (k)')\n",
    "plt.ylabel('Within-Cluster Sum of Squares (WCSS)')\n",
    "plt.title('Elbow Method for Optimal k')\n",
    "plt.grid(True, alpha=0.3)\n",
    "\n",
    "plt.show()\n",
    "\n",
    "print(\"📊 Elbow curve plotted!\")\n",
    "print(\"🤔 Based on the elbow curve, what do you think is the optimal number of clusters?\")"
   ]
  },
  {
   "cell_type": "markdown",
   "id": "1d207169",
   "metadata": {},
   "source": [
    "## 🎯 Question 2: How many customers are in each cluster?\n",
    "\n",
    "Now let's apply K-Means with the optimal number of clusters you identified and find out how many customers belong to each cluster.\n",
    "\n",
    "**Your task**: Apply K-Means clustering and report the size of each cluster (both count and percentage)."
   ]
  },
  {
   "cell_type": "code",
   "execution_count": null,
   "id": "29c53df9",
   "metadata": {},
   "outputs": [],
   "source": [
    "# Apply K-Means with optimal k Based on elbow method\n",
    "# optimal_k = \n",
    "\n",
    "print(f\"🎯 Applying K-Means with k={optimal_k}...\")\n",
    "\n",
    "# TODO: Create KMeans model with optimal_k clusters with random_state=42 and n_init=10\n",
    "# kmeans = \n",
    "# cluster_labels = \n",
    "\n",
    "# Add cluster labels to original dataframe\n",
    "df['Cluster'] = cluster_labels\n",
    "\n",
    "# Display results\n",
    "print(f\"✅ K-Means clustering completed!\")\n",
    "print(f\"📊 Cluster centers:\")\n",
    "print(kmeans.cluster_centers_)\n",
    "print(f\"\\n🎯 Final WCSS: {kmeans.inertia_:.0f}\")"
   ]
  },
  {
   "cell_type": "code",
   "execution_count": null,
   "id": "be1432c8",
   "metadata": {},
   "outputs": [],
   "source": [
    "# Analyze cluster sizes\n",
    "print(\"=== CLUSTER ANALYSIS ===\")\n",
    "cluster_counts = df['Cluster'].value_counts().sort_index()\n",
    "print(\"Cluster sizes:\")\n",
    "for cluster, count in cluster_counts.items():\n",
    "    print(f\"  Cluster {cluster}: {count} customers ({count/len(df)*100:.1f}%)\")\n",
    "\n",
    "# Display cluster statistics\n",
    "print(\"\\n📊 Cluster Statistics:\")\n",
    "for cluster in range(optimal_k):\n",
    "    cluster_data = df[df['Cluster'] == cluster]\n",
    "    print(f\"\\nCluster {cluster}:\")\n",
    "    print(f\"  Average Income: ${cluster_data['Annual_Income'].mean():.0f}k\")\n",
    "    print(f\"  Average Spending Score: {cluster_data['Spending_Score'].mean():.1f}\")\n",
    "    print(f\"  Age Range: {cluster_data['Age'].min()}-{cluster_data['Age'].max()}\")\n",
    "\n",
    "print(f\"\\n🎉 Analysis complete! You now have the answers to both questions!\")"
   ]
  },
  {
   "cell_type": "markdown",
   "id": "56f659d4",
   "metadata": {},
   "source": [
    "## 📋 Summary\n",
    "\n",
    "Congratulations! You've successfully completed the K-Means clustering analysis. You should now be able to answer:\n",
    "\n",
    "1. **What is the optimal number of clusters?** _(Look at your elbow curve)_\n",
    "2. **How many customers are in each cluster?** _(Check the cluster sizes above)_\n",
    "\n",
    "🎯 **Ready to submit your answers?** Make sure you have:\n",
    "- ✅ Identified the optimal number of clusters from the elbow method\n",
    "- ✅ Determined the size of each cluster (count and percentage)\n",
    "- ✅ Understood the customer distribution across clusters\n",
    "\n",
    "Great work on mastering K-Means clustering! 🎉"
   ]
  }
 ],
 "metadata": {
  "kernelspec": {
   "display_name": "Python 3",
   "language": "python",
   "name": "python3"
  },
  "language_info": {
   "codemirror_mode": {
    "name": "ipython",
    "version": 3
   },
   "file_extension": ".py",
   "mimetype": "text/x-python",
   "name": "python",
   "nbconvert_exporter": "python",
   "pygments_lexer": "ipython3",
   "version": "3.12.1"
  }
 },
 "nbformat": 4,
 "nbformat_minor": 5
}
